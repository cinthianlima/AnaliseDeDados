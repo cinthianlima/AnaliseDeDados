{
 "cells": [
  {
   "cell_type": "markdown",
   "id": "e9938b10",
   "metadata": {},
   "source": [
    "## Pacotes"
   ]
  },
  {
   "cell_type": "code",
   "execution_count": 1,
   "id": "71450cd9",
   "metadata": {},
   "outputs": [],
   "source": [
    "import numpy as np\n",
    "import matplotlib.pyplot as plt\n",
    "import random\n",
    "from scipy import special \n",
    "\n",
    "pi = np.pi\n",
    "exp = np.exp\n",
    "Erf = special.erf"
   ]
  },
  {
   "cell_type": "markdown",
   "id": "88dd055e",
   "metadata": {},
   "source": [
    "## Conjuntos de dados"
   ]
  },
  {
   "cell_type": "code",
   "execution_count": 2,
   "id": "a0c21584",
   "metadata": {},
   "outputs": [],
   "source": [
    "# Distribuição uniforme\n",
    "\n",
    "n = 1000 #número de pontos\n",
    "bins = 10 #número de bins\n",
    "uniform = np.random.uniform(0,1,n) #pontos da distribuição uniforme\n",
    "\n",
    "#Distribuição normal\n",
    "\n",
    "normal = np.random.normal(0,1,n) #pontos da distribuição normal \n",
    "\n",
    "#plt.hist(normal,bins)\n"
   ]
  },
  {
   "cell_type": "code",
   "execution_count": null,
   "id": "8e55aa0a",
   "metadata": {},
   "outputs": [],
   "source": []
  },
  {
   "cell_type": "code",
   "execution_count": null,
   "id": "d204b6ae",
   "metadata": {},
   "outputs": [],
   "source": []
  },
  {
   "cell_type": "code",
   "execution_count": null,
   "id": "695c47ae",
   "metadata": {},
   "outputs": [],
   "source": []
  },
  {
   "cell_type": "code",
   "execution_count": null,
   "id": "0c6be2be",
   "metadata": {},
   "outputs": [],
   "source": []
  }
 ],
 "metadata": {
  "kernelspec": {
   "display_name": "Python 3 (ipykernel)",
   "language": "python",
   "name": "python3"
  },
  "language_info": {
   "codemirror_mode": {
    "name": "ipython",
    "version": 3
   },
   "file_extension": ".py",
   "mimetype": "text/x-python",
   "name": "python",
   "nbconvert_exporter": "python",
   "pygments_lexer": "ipython3",
   "version": "3.8.10"
  }
 },
 "nbformat": 4,
 "nbformat_minor": 5
}
