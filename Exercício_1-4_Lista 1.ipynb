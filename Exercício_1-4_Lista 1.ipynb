{
 "cells": [
  {
   "cell_type": "markdown",
   "id": "e9938b10",
   "metadata": {},
   "source": [
    "## Packages"
   ]
  },
  {
   "cell_type": "code",
   "execution_count": 1,
   "id": "71450cd9",
   "metadata": {},
   "outputs": [],
   "source": [
    "import numpy as np\n",
    "import matplotlib.pyplot as plt\n",
    "import random\n",
    "from statisticaltools import InterCumulSamp\n",
    "from statisticaltools import Statisticaltools1\n",
    "from statisticaltools import Statisticaltools2\n",
    "from scipy import special \n",
    "\n",
    "pi = np.pi\n",
    "exp = np.exp\n",
    "Erf = special.erf"
   ]
  },
  {
   "cell_type": "markdown",
   "id": "88dd055e",
   "metadata": {},
   "source": [
    "## Datas"
   ]
  },
  {
   "cell_type": "code",
   "execution_count": 2,
   "id": "a0c21584",
   "metadata": {},
   "outputs": [],
   "source": [
    "#Constants:\n",
    "sigma = 1.0\n",
    "mi = 4\n",
    "mi_gauss = 0.0\n",
    "\n",
    "#Range and points:\n",
    "n = 100 #number of points\n",
    "bins = 10 #number of bins\n",
    "\n",
    "#Spaces\n",
    "x = np.linspace(-5, 5.0, num=n)\n",
    "x_dist3 = np.linspace(1,10,num=n)\n",
    "s_list =np.random.uniform(0.0, 1.0, n)\n",
    "\n"
   ]
  },
  {
   "cell_type": "markdown",
   "id": "ab368aca",
   "metadata": {},
   "source": [
    "## Distribuitions"
   ]
  },
  {
   "cell_type": "code",
   "execution_count": 3,
   "id": "8e55aa0a",
   "metadata": {},
   "outputs": [],
   "source": [
    "# Uniform distribuition\n",
    "\n",
    "uniform = np.random.uniform(0,1,n) #points of uniform distribuition\n",
    "\n",
    "#Normal distribuition\n",
    "\n",
    "#Gaussian function:\n",
    "def gauss (x):\n",
    "    g =[]\n",
    "        \n",
    "    for j in range(0,len(x)): \n",
    "                \n",
    "        g_i =  (1 / ( sigma * pow((2*pi),0.5)))* exp( -0.5 * pow ((x[j] - mi_gauss) / sigma, 2.0))\n",
    "        \n",
    "        g.append(g_i)\n",
    "    return g\n",
    "\n",
    "normal = gauss(x)\n",
    "\n",
    "# Third distribuition\n",
    "\n",
    "def dist3 (x):\n",
    "    g =[]\n",
    "    for j in range(0,len(x)): \n",
    "        g_j =  (1 / ( sigma * pow((2*pi),0.5)))* exp( -0.5 * pow (((x[j] - mi) / sigma), 2.0))\n",
    "        g_i=  (1 / ( sigma * pow((2*pi),0.5)))* exp( -0.5 * pow (((x[j] + mi) / sigma), 2.0))\n",
    "        a = Erf(mi / pow(2*sigma, 0.5))\n",
    "        \n",
    "        d = (g_j - g_i) / a\n",
    "                \n",
    "        g.append(d)\n",
    "        \n",
    "    return g\n",
    "\n",
    "dist_3 = dist3 (x_dist3)"
   ]
  },
  {
   "cell_type": "markdown",
   "id": "4d94e138",
   "metadata": {},
   "source": [
    "### 1) a) N-point samples of the distributions:"
   ]
  },
  {
   "cell_type": "code",
   "execution_count": 4,
   "id": "d204b6ae",
   "metadata": {},
   "outputs": [],
   "source": [
    "# Uniform:\n",
    "#samples given by uniform = np.random.uniform(0,1,n)\n",
    "\n",
    "# Normal:\n",
    "normal_dist = InterCumulSamp(normal, x)\n",
    "normal_points = normal_dist.sampler_list_points(s_list)\n",
    "\n",
    "#Distribuition 3:\n",
    "terceira_dist = InterCumulSamp(dist_3, x_dist3)\n",
    "ter_points = terceira_dist.sampler_list_points(s_list)\n",
    "\n",
    "#print(ter_points)"
   ]
  },
  {
   "cell_type": "markdown",
   "id": "5d93cc1a",
   "metadata": {},
   "source": [
    "### b) Bins"
   ]
  },
  {
   "cell_type": "code",
   "execution_count": 5,
   "id": "695c47ae",
   "metadata": {},
   "outputs": [
    {
     "data": {
      "text/plain": [
       "<Figure size 432x288 with 0 Axes>"
      ]
     },
     "metadata": {},
     "output_type": "display_data"
    },
    {
     "data": {
      "image/png": "[encoded data removed]",
      "text/plain": [
       "<Figure size 1008x504 with 3 Axes>"
      ]
     },
     "metadata": {
      "needs_background": "light"
     },
     "output_type": "display_data"
    }
   ],
   "source": [
    "plt.figure()\n",
    "fig, axs = plt.subplots (3, sharex=True, gridspec_kw={'hspace': 0}, figsize=(14,7))\n",
    "\n",
    "axs[0].hist(uniform, bins,[0.0, 1.0], color='deeppink') #histograma da uniforme\n",
    "axs[1].hist(normal_points, bins, [-3.0, 3.0], color='darkviolet') #histograma da normal\n",
    "axs[2].hist(ter_points, bins, [-7, 7], color='crimson') #histograma da terceira distribuição\n",
    "\n",
    "axs[2].set_xlabel('x', fontsize=14)\n",
    "\n",
    "axs[0].set_ylabel('Uniform', fontsize=14)\n",
    "axs[1].set_ylabel('Normal', fontsize=14)\n",
    "axs[2].set_ylabel('Distribuition 3', fontsize=14)\n",
    "\n",
    "axs[0].set_title('Histograms', fontsize=14)\n",
    "plt.xlim([-5.8, 8])\n",
    "\n",
    "plt.show ()"
   ]
  },
  {
   "cell_type": "code",
   "execution_count": 6,
   "id": "0c6be2be",
   "metadata": {},
   "outputs": [
    {
     "name": "stdout",
     "output_type": "stream",
     "text": [
      "[0.00577429 0.10398835 0.20220241 0.30041647 0.39863052 0.49684458\n",
      " 0.59505864 0.6932727  0.79148676 0.88970082 0.98791488]\n"
     ]
    }
   ],
   "source": [
    "#Number of points de pontos in each bin for distributions:\n",
    "\n",
    "#Uniform\n",
    "uniform_bins_number = np.histogram(uniform, bins)[0] # ni\n",
    "uniform_bins_interval = np.histogram(uniform, bins)[1]\n",
    "\n",
    "#Normal\n",
    "normal_bins_number = np.histogram(normal_points, bins)[0]\n",
    "\n",
    "#Distribuition 3\n",
    "dist3_bins_number = np.histogram(ter_points, bins)[0]\n",
    "\n",
    "print(uniform_bins_interval)\n",
    "#print(uniform_bins_number, normal_bins_number, dist3_bins_number)"
   ]
  },
  {
   "cell_type": "code",
   "execution_count": 7,
   "id": "1ae340c8",
   "metadata": {},
   "outputs": [],
   "source": [
    "#Cumulative\n",
    "\n",
    "#Normal\n",
    "normal_cumulativa = normal_dist.cumulative_all_points()\n",
    "\n",
    "#Distribuition 3\n",
    "dist3_cumulativa = terceira_dist.cumulative_all_points()\n"
   ]
  },
  {
   "cell_type": "code",
   "execution_count": 8,
   "id": "064907a8",
   "metadata": {
    "scrolled": false
   },
   "outputs": [],
   "source": [
    "# Expected value of points in each subinterval\n",
    "\n",
    "#n=100\n",
    "\n",
    "n_normal = []\n",
    "for a in range (0, bins-1):\n",
    "    ni = normal_bins_number[a] * normal_cumulativa[a+1][0]\n",
    "    n_normal.append(ni)#esperado/teórico\n"
   ]
  },
  {
   "cell_type": "code",
   "execution_count": 9,
   "id": "9271c432",
   "metadata": {},
   "outputs": [],
   "source": [
    "err = Statisticaltools2(n_normal, normal_bins_number)\n",
    "n_erro_absoluto = err.absolute_error()"
   ]
  },
  {
   "cell_type": "code",
   "execution_count": 10,
   "id": "48dfc375",
   "metadata": {},
   "outputs": [],
   "source": [
    "#n=1000\n",
    "\n",
    "#Range and points:\n",
    "n1000 = 1000 #number of points\n",
    "bins1000 = 1000 #number of bins\n",
    "\n",
    "#Spaces\n",
    "x1000 = np.linspace(-5, 5.0, num=n1000)\n",
    "x_dist31000 = np.linspace(1,7,num=n1000)\n",
    "s_list1000 =np.random.uniform(0.0, 1.0, n1000)\n",
    "\n",
    "normal1000 = gauss(x1000)\n",
    "normal_dist1000 = InterCumulSamp(normal1000, x1000)\n",
    "normal_points1000 = normal_dist1000.sampler_list_points(s_list1000)\n",
    "normal_bins_number1000 = np.histogram(normal_points1000, bins1000)[0]\n",
    "normal_cumulativa1000 = normal_dist1000.cumulative_all_points()\n",
    "\n",
    "n_normal1000 = []\n",
    "for a in range (0, 999):\n",
    "    ni = normal_bins_number1000[a] * normal_cumulativa1000[a+1][0]\n",
    "    n_normal1000.append(ni)\n",
    "\n",
    "err1000 = Statisticaltools2(n_normal1000, normal_bins_number1000)\n",
    "n_erro_absoluto1000 = err1000.absolute_error()"
   ]
  },
  {
   "cell_type": "code",
   "execution_count": 11,
   "id": "17b13d7d",
   "metadata": {},
   "outputs": [],
   "source": [
    "# #n=10000\n",
    "\n",
    "# #Range and points:\n",
    "# n10000 = 10000 #number of points\n",
    "# bins10000 = 10000 #number of bins\n",
    "\n",
    "# #Spaces\n",
    "# x10000 = np.linspace(-5, 5.0, num=n10000)\n",
    "# x_dist310000 = np.linspace(1,7,num=n10000)\n",
    "# s_list10000 =np.random.uniform(0.0, 1.0, n10000)\n",
    "\n",
    "# normal10000 = gauss(x10000)\n",
    "# normal_dist10000 = InterCumulSamp(normal10000, x10000)\n",
    "# normal_points10000 = normal_dist1000.sampler_list_points(s_list10000)\n",
    "# normal_bins_number10000 = np.histogram(normal_points10000, bins10000)[0]\n",
    "# normal_cumulativa10000 = normal_dist10000.cumulative_all_points()\n",
    "\n",
    "# n_normal10000 = []\n",
    "# for a in range (0, 9999):\n",
    "#     ni = normal_bins_number10000[a] * normal_cumulativa10000[a+1][0]\n",
    "#     n_normal10000.append(ni)\n",
    "\n",
    "# err10000 = Statisticaltools2(n_normal10000, normal_bins_number10000)\n",
    "# n_erro_absoluto10000 = err10000.absolute_error()"
   ]
  },
  {
   "cell_type": "markdown",
   "id": "0bcac2ed",
   "metadata": {},
   "source": [
    "## c) Relative diference $\\left( \\frac{ni}{ \\overline{ni}} - 1 \\right)$ "
   ]
  },
  {
   "cell_type": "code",
   "execution_count": 12,
   "id": "23c7bdc7",
   "metadata": {},
   "outputs": [],
   "source": [
    "dif_relative = []\n",
    "for i in range(0, len(n_normal)):\n",
    "    dif = ((uniform_bins_number[i] / n_normal[i]) -1)\n",
    "    dif_relative.append(dif)"
   ]
  },
  {
   "cell_type": "code",
   "execution_count": 13,
   "id": "272dbd4d",
   "metadata": {},
   "outputs": [
    {
     "data": {
      "text/plain": [
       "[<matplotlib.lines.Line2D at 0x7f5bc057c250>]"
      ]
     },
     "execution_count": 13,
     "metadata": {},
     "output_type": "execute_result"
    },
    {
     "data": {
      "image/png": "[encoded data removed]",
      "text/plain": [
       "<Figure size 432x288 with 1 Axes>"
      ]
     },
     "metadata": {
      "needs_background": "light"
     },
     "output_type": "display_data"
    }
   ],
   "source": [
    "plt.plot(dif_relative)"
   ]
  },
  {
   "cell_type": "markdown",
   "id": "016b1dc2",
   "metadata": {},
   "source": [
    "## 2) Average and Variance for Gaussian Distribution"
   ]
  },
  {
   "cell_type": "code",
   "execution_count": 14,
   "id": "937e7cd1",
   "metadata": {},
   "outputs": [],
   "source": [
    "#Average and Variance\n",
    "t = 1000\n",
    "variancias =[]\n",
    "medias =[]\n",
    "for j in range(0, t):\n",
    "    s_list =np.random.uniform(0.0, 1.0, 100)\n",
    "    normal_points = normal_dist.sampler_list_points(s_list)\n",
    "    n = Statisticaltools1(normal_points)\n",
    "    normal_media = n.media_aritmetica()\n",
    "    normal_var = n.variance()\n",
    "    medias.append(normal_media)\n",
    "    variancias.append(normal_var)\n",
    "\n",
    "soma_var = []       \n",
    "soma_medias = []\n",
    "mi = 0\n",
    "vi = 0\n",
    "for n in range(0, len(medias)-1):\n",
    "    mi = mi + medias[n] \n",
    "    vi = vi + variancias[n]\n",
    "    soma_medias.append(mi/(n+1))\n",
    "    soma_var.append(vi/(n+1))\n",
    "    \n"
   ]
  },
  {
   "cell_type": "code",
   "execution_count": 15,
   "id": "f14b2425",
   "metadata": {},
   "outputs": [
    {
     "data": {
      "text/plain": [
       "<Figure size 432x288 with 0 Axes>"
      ]
     },
     "metadata": {},
     "output_type": "display_data"
    },
    {
     "data": {
      "image/png": "[encoded data removed]",
      "text/plain": [
       "<Figure size 1008x504 with 2 Axes>"
      ]
     },
     "metadata": {
      "needs_background": "light"
     },
     "output_type": "display_data"
    }
   ],
   "source": [
    "plt.figure()\n",
    "fig, axs = plt.subplots (2, sharex=True, gridspec_kw={'hspace': 0}, figsize=(14,7))\n",
    "\n",
    "axs[0].plot(soma_var, color='darkviolet')\n",
    "axs[1].plot(soma_medias, color='crimson') \n",
    "\n",
    "axs[1].set_xlabel(\"t\", fontsize=14)\n",
    "\n",
    "axs[0].set_ylabel('Average variance', fontsize=14)\n",
    "axs[1].set_ylabel('Average average', fontsize=14)\n",
    "\n",
    "\n",
    "axs[0].set_title('Average and variance averages', fontsize=14)\n",
    "\n",
    "\n",
    "plt.show ()"
   ]
  },
  {
   "cell_type": "markdown",
   "id": "14cf6c75",
   "metadata": {},
   "source": [
    "## 3) Skew e Curtosis"
   ]
  },
  {
   "cell_type": "code",
   "execution_count": 16,
   "id": "5ad27fba",
   "metadata": {},
   "outputs": [
    {
     "name": "stderr",
     "output_type": "stream",
     "text": [
      "/home/cinthia/Documentos/Disciplina Análise de Dados/Repositório/statisticaltools.py:53: RuntimeWarning: divide by zero encountered in double_scalars\n",
      "  coefs_a = dx / dc\n",
      "/home/cinthia/Documentos/Disciplina Análise de Dados/Repositório/statisticaltools.py:54: RuntimeWarning: divide by zero encountered in double_scalars\n",
      "  coefs_b = -dx / dc * cumulative_all[j][0] + cumulative_all[j][1]\n"
     ]
    },
    {
     "name": "stdout",
     "output_type": "stream",
     "text": [
      "[0.36919050651777047, 0.2615917600217546, -0.05171928021094058, 0.039190221675388826, 0.02411021937105766] [5.803205382716589, -2.2693704223100593, 0.10691689702518925, 0.07736215210077946, 0.13265963887178778]\n"
     ]
    }
   ],
   "source": [
    "nw =[10, 100, 1000,10000, 100000]\n",
    "\n",
    "skew_list = []\n",
    "curtosis_list =[]\n",
    "for i in nw:\n",
    "    x_dist3w = np.linspace(0,10,500)\n",
    "    dist_3w = dist3 (x_dist3w)\n",
    "    \n",
    "\n",
    "    terceira_distw = InterCumulSamp(dist_3w, x_dist3w)    \n",
    "    s_listw =np.random.uniform(0.0, 0.998, i)\n",
    "    ter_pointsw = terceira_dist.sampler_list_points(s_listw)\n",
    "    if None in ter_pointsw:\n",
    "        index = ter_pointsw.index(None)\n",
    "        print(s_listw[index])\n",
    "    obj_dist3 = Statisticaltools1(ter_pointsw)\n",
    "\n",
    "    #Skew da distribuição 3\n",
    "    skew_list.append(obj_dist3.skew())\n",
    "\n",
    "    #Curtosis da distribuição 3\n",
    "    curtosis_list.append(obj_dist3.curtosis())\n",
    "    \n",
    "\n",
    "print(skew_list, curtosis_list)\n",
    "\n",
    "#Estabiliza para n = 10000"
   ]
  },
  {
   "cell_type": "markdown",
   "id": "86aaf4cb",
   "metadata": {},
   "source": [
    "## 4)  a)Correlation and covariance of uniform and normal distributions"
   ]
  },
  {
   "cell_type": "code",
   "execution_count": 17,
   "id": "75ad2e01",
   "metadata": {},
   "outputs": [
    {
     "name": "stdout",
     "output_type": "stream",
     "text": [
      "-0.004803203195284173 -0.016541727272455734\n"
     ]
    }
   ],
   "source": [
    "#Numero de pontos\n",
    "p =10000\n",
    "\n",
    "#Distribuições\n",
    "uniform_x1 = np.random.uniform(0,1,p) #Uniform\n",
    "\n",
    "xn = np.linspace(-5, 5.0, 500)\n",
    "norm = gauss(xn)\n",
    "normal_d = InterCumulSamp(norm, xn)\n",
    "s_listxy =np.random.uniform(0.0, 1.0, p)\n",
    "normal_y = normal_dist.sampler_list_points(s_listxy) #Normal\n",
    "\n",
    "\n",
    "obj_xy = Statisticaltools2(uniform_x1, normal_y)\n",
    "obj_x = Statisticaltools1(uniform_x1)\n",
    "obj_y = Statisticaltools1(normal_y)\n",
    "\n",
    "#Covariancia\n",
    "cov_xy = obj_xy.covariance()\n",
    "\n",
    "\n",
    "#Correlação\n",
    "a = obj_x.variance() ** (0.5)\n",
    "b = obj_y.variance() ** (0.5)\n",
    "\n",
    "cor_xy = (cov_xy) / (a * b)\n",
    "\n",
    "print(cov_xy, cor_xy)"
   ]
  },
  {
   "cell_type": "markdown",
   "id": "67a344dd",
   "metadata": {},
   "source": [
    "## b) i) {xi, yi +xi}"
   ]
  },
  {
   "cell_type": "code",
   "execution_count": 18,
   "id": "93c3428e",
   "metadata": {},
   "outputs": [
    {
     "name": "stdout",
     "output_type": "stream",
     "text": [
      "0.08921084227214021 0.29726176893422196\n"
     ]
    }
   ],
   "source": [
    "#Number of points\n",
    "p =10000\n",
    "\n",
    "#Distribuitions\n",
    "uniform_x2 = np.random.uniform(0,1,p) #Uniform\n",
    "\n",
    "xn = np.linspace(-5, 5.0, 500)\n",
    "norm = gauss(xn)\n",
    "normal_d = InterCumulSamp(norm, xn)\n",
    "s_listxy =np.random.uniform(0.0, 1.0, p)\n",
    "normal_y = normal_dist.sampler_list_points(s_listxy) #Normal\n",
    "\n",
    "som_xy =[]\n",
    "for i in range(0, len(normal_y)):\n",
    "    s = normal_y[i] + uniform_x2[i]\n",
    "    som_xy.append(s)\n",
    "\n",
    "\n",
    "obj_som_xy2 = Statisticaltools2(uniform_x2, som_xy)\n",
    "obj_som_xy = Statisticaltools1(som_xy)\n",
    "\n",
    "#Covariance\n",
    "cov_som_xy = obj_som_xy2.covariance()\n",
    "\n",
    "\n",
    "#Correlation\n",
    "a = obj_x.variance() ** (0.5)\n",
    "b_som_xy = obj_som_xy.variance() ** (0.5)\n",
    "\n",
    "cor_som_xy = (cov_som_xy) / (a * b_som_xy)\n",
    "\n",
    "print(cov_som_xy, cor_som_xy)"
   ]
  },
  {
   "cell_type": "markdown",
   "id": "c0cdf8bb",
   "metadata": {},
   "source": [
    "## ii) {xi, yi-xi}"
   ]
  },
  {
   "cell_type": "code",
   "execution_count": 19,
   "id": "57c37c22",
   "metadata": {},
   "outputs": [
    {
     "name": "stdout",
     "output_type": "stream",
     "text": [
      "-0.08308580580496856 -0.2754973651827354\n"
     ]
    }
   ],
   "source": [
    "#Number of points\n",
    "p =10000\n",
    "\n",
    "#Distribuitions\n",
    "uniform_x3 = np.random.uniform(0,1,p) #Uniform\n",
    "\n",
    "xn = np.linspace(-5, 5.0, 500)\n",
    "norm = gauss(xn)\n",
    "normal_d = InterCumulSamp(norm, xn)\n",
    "s_listxy =np.random.uniform(0.0, 1.0, p)\n",
    "normal_y = normal_dist.sampler_list_points(s_listxy) #Normal\n",
    "\n",
    "sub_xy =[]\n",
    "for i in range(0, len(normal_y)):\n",
    "    s = normal_y[i] - uniform_x3[i]\n",
    "    sub_xy.append(s)\n",
    "\n",
    "\n",
    "obj_sub_xy2 = Statisticaltools2(uniform_x3, sub_xy)\n",
    "obj_sub_xy = Statisticaltools1(sub_xy)\n",
    "\n",
    "#Covariance\n",
    "cov_sub_xy = obj_sub_xy2.covariance()\n",
    "\n",
    "\n",
    "#Correlation\n",
    "a = obj_x.variance() ** (0.5)\n",
    "b_sub_xy = obj_sub_xy.variance() ** (0.5)\n",
    "\n",
    "cor_sub_xy = (cov_sub_xy) / (a * b_sub_xy)\n",
    "\n",
    "print(cov_sub_xy, cor_sub_xy)"
   ]
  },
  {
   "cell_type": "markdown",
   "id": "201df2ce",
   "metadata": {},
   "source": [
    "## c) Scatter plot"
   ]
  },
  {
   "cell_type": "code",
   "execution_count": 20,
   "id": "d59c8308",
   "metadata": {},
   "outputs": [
    {
     "data": {
      "text/plain": [
       "Text(0, 0.5, '{xi, yi - xi}')"
      ]
     },
     "execution_count": 20,
     "metadata": {},
     "output_type": "execute_result"
    },
    {
     "data": {
      "text/plain": [
       "<Figure size 432x288 with 0 Axes>"
      ]
     },
     "metadata": {},
     "output_type": "display_data"
    },
    {
     "data": {
      "image/png": "[encoded data removed]",
      "text/plain": [
       "<Figure size 504x1008 with 3 Axes>"
      ]
     },
     "metadata": {
      "needs_background": "light"
     },
     "output_type": "display_data"
    }
   ],
   "source": [
    "plt.figure()\n",
    "fig, axs = plt.subplots (3, sharex=True, gridspec_kw={'hspace': 0}, figsize=(7,14))\n",
    "\n",
    "\n",
    "axs[0].scatter(uniform_x1, normal_y, color='darkviolet')\n",
    "axs[1].scatter(uniform_x2, som_xy, color='seagreen')\n",
    "axs[2].scatter(uniform_x3, sub_xy, color='orangered')\n",
    "\n",
    "axs[0].set_ylabel('{xi, yi}', fontsize=14)\n",
    "axs[1].set_ylabel('{xi, yi + xi}', fontsize=14)\n",
    "axs[2].set_ylabel('{xi, yi - xi}', fontsize=14)\n",
    "\n",
    "\n"
   ]
  },
  {
   "cell_type": "code",
   "execution_count": null,
   "id": "effb20d6",
   "metadata": {},
   "outputs": [],
   "source": []
  },
  {
   "cell_type": "code",
   "execution_count": null,
   "id": "b17d5bdc",
   "metadata": {},
   "outputs": [],
   "source": []
  },
  {
   "cell_type": "code",
   "execution_count": null,
   "id": "aaebd74b",
   "metadata": {},
   "outputs": [],
   "source": []
  }
 ],
 "metadata": {
  "kernelspec": {
   "display_name": "Python 3 (ipykernel)",
   "language": "python",
   "name": "python3"
  },
  "language_info": {
   "codemirror_mode": {
    "name": "ipython",
    "version": 3
   },
   "file_extension": ".py",
   "mimetype": "text/x-python",
   "name": "python",
   "nbconvert_exporter": "python",
   "pygments_lexer": "ipython3",
   "version": "3.8.10"
  }
 },
 "nbformat": 4,
 "nbformat_minor": 5
}
