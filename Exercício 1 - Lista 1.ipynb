{
 "cells": [
  {
   "cell_type": "markdown",
   "id": "e9938b10",
   "metadata": {},
   "source": [
    "## Pacotes"
   ]
  },
  {
   "cell_type": "code",
   "execution_count": 1,
   "id": "71450cd9",
   "metadata": {},
   "outputs": [],
   "source": [
    "import numpy as np\n",
    "import matplotlib.pyplot as plt\n",
    "import random\n",
    "from interpolation import Interpolation\n",
    "from statisticaltools import Statisticaltools1\n",
    "from statisticaltools import Statisticaltools2\n",
    "from scipy import special \n",
    "\n",
    "pi = np.pi\n",
    "exp = np.exp\n",
    "Erf = special.erf"
   ]
  },
  {
   "cell_type": "markdown",
   "id": "88dd055e",
   "metadata": {},
   "source": [
    "## Conjuntos de dados"
   ]
  },
  {
   "cell_type": "code",
   "execution_count": 2,
   "id": "a0c21584",
   "metadata": {},
   "outputs": [],
   "source": [
    "#Constants:\n",
    "sigma = 1.0\n",
    "mi = 4\n",
    "mi_gauss = 0.0\n",
    "\n",
    "#Range and points:\n",
    "n = 100 #number of points\n",
    "bins = 10 #number of bins\n",
    "\n",
    "#Spaces\n",
    "x = np.linspace(-5, 5.0, num=n)\n",
    "x_dist3 = np.linspace(1,7,num=n)\n",
    "s_list =np.random.uniform(0.0, 1.0, n)\n",
    "\n"
   ]
  },
  {
   "cell_type": "markdown",
   "id": "ab368aca",
   "metadata": {},
   "source": [
    "## Distribuições"
   ]
  },
  {
   "cell_type": "code",
   "execution_count": 3,
   "id": "8e55aa0a",
   "metadata": {},
   "outputs": [],
   "source": [
    "# Distribuição uniforme\n",
    "\n",
    "uniform = np.random.uniform(0,1,n) #pontos da distribuição uniforme\n",
    "\n",
    "#Distribuição normal\n",
    "\n",
    "#Função gaussiana:\n",
    "def gauss (x):\n",
    "    g =[]\n",
    "        \n",
    "    for j in range(0,len(x)): \n",
    "                \n",
    "        g_i =  (1 / ( sigma * pow((2*pi),0.5)))* exp( -0.5 * pow ((x[j] - mi_gauss) / sigma, 2.0))\n",
    "        \n",
    "        g.append(g_i)\n",
    "    return g\n",
    "\n",
    "normal = gauss(x)\n",
    "\n",
    "# Terceira Distribuição\n",
    "\n",
    "def dist3 (x):\n",
    "    g =[]\n",
    "    for j in range(0,len(x)): \n",
    "        g_j =  (1 / ( sigma * pow((2*pi),0.5)))* exp( -0.5 * pow (((x[j] - mi) / sigma), 2.0))\n",
    "        g_i=  (1 / ( sigma * pow((2*pi),0.5)))* exp( -0.5 * pow (((x[j] + mi) / sigma), 2.0))\n",
    "        a = Erf(mi / pow(2*sigma, 0.5))\n",
    "        \n",
    "        d = (g_j - g_i) / a\n",
    "                \n",
    "        g.append(d)\n",
    "        \n",
    "    return g\n",
    "\n",
    "dist_3 = dist3 (x_dist3)"
   ]
  },
  {
   "cell_type": "markdown",
   "id": "4d94e138",
   "metadata": {},
   "source": [
    "### 1) a) Amostras de N pontos das distribuições:"
   ]
  },
  {
   "cell_type": "code",
   "execution_count": 4,
   "id": "d204b6ae",
   "metadata": {},
   "outputs": [],
   "source": [
    "# Uniform:\n",
    "#amostras dadas por uniform = np.random.uniform(0,1,n)\n",
    "\n",
    "# Normal:\n",
    "normal_dist = Interpolation(normal, x)\n",
    "normal_points = normal_dist.sampler_list_points(s_list)\n",
    "\n",
    "#Distribuição 3:\n",
    "terceira_dist = Interpolation(dist_3, x)\n",
    "ter_points = terceira_dist.sampler_list_points(s_list)\n"
   ]
  },
  {
   "cell_type": "markdown",
   "id": "5d93cc1a",
   "metadata": {},
   "source": [
    "### b) Binagem"
   ]
  },
  {
   "cell_type": "code",
   "execution_count": 5,
   "id": "695c47ae",
   "metadata": {},
   "outputs": [
    {
     "data": {
      "text/plain": [
       "<Figure size 432x288 with 0 Axes>"
      ]
     },
     "metadata": {},
     "output_type": "display_data"
    },
    {
     "data": {
      "image/png": "[encoded data removed]",
      "text/plain": [
       "<Figure size 1008x504 with 3 Axes>"
      ]
     },
     "metadata": {
      "needs_background": "light"
     },
     "output_type": "display_data"
    }
   ],
   "source": [
    "plt.figure()\n",
    "fig, axs = plt.subplots (3, sharex=True, gridspec_kw={'hspace': 0}, figsize=(14,7))\n",
    "\n",
    "axs[0].hist(uniform, bins,[0.0, 1.0], color='deeppink') #histograma da uniforme\n",
    "axs[1].hist(normal_points, bins, [-3.0, 3.0], color='darkviolet') #histograma da normal\n",
    "axs[2].hist(ter_points, bins, [-7, 7], color='crimson') #histograma da terceira distribuição\n",
    "\n",
    "axs[2].set_xlabel('x', fontsize=14)\n",
    "\n",
    "axs[0].set_ylabel('Uniform', fontsize=14)\n",
    "axs[1].set_ylabel('Normal', fontsize=14)\n",
    "axs[2].set_ylabel('Distribuition 3', fontsize=14)\n",
    "\n",
    "axs[0].set_title('Histograms', fontsize=14)\n",
    "plt.xlim([-5.8, 3.2])\n",
    "\n",
    "plt.show ()"
   ]
  },
  {
   "cell_type": "code",
   "execution_count": 6,
   "id": "0c6be2be",
   "metadata": {},
   "outputs": [
    {
     "name": "stdout",
     "output_type": "stream",
     "text": [
      "[ 7  6 14 11  7 12  8 10 13 12] [ 1  0  8 11 15 21 16 14  8  6] [ 1  0  5  4 11 10 13 21 13 22]\n"
     ]
    }
   ],
   "source": [
    "#Numero de pontos em cada bin para as distribuições:\n",
    "\n",
    "#Uniforme\n",
    "uniform_bins_number = np.histogram(uniform, bins)[0]\n",
    "\n",
    "#Normal\n",
    "normal_bins_number = np.histogram(normal_points, bins)[0]\n",
    "\n",
    "#Distribuition 3\n",
    "dist3_bins_number = np.histogram(ter_points, bins)[0]\n",
    "\n",
    "print(uniform_bins_number, normal_bins_number, dist3_bins_number)"
   ]
  },
  {
   "cell_type": "code",
   "execution_count": 7,
   "id": "1ae340c8",
   "metadata": {},
   "outputs": [],
   "source": [
    "#Cumulativas\n",
    "\n",
    "#Normal\n",
    "normal_cumulativa = normal_dist.cumulative_all_points()\n",
    "\n",
    "#Distribuição 3\n",
    "dist3_cumulativa = terceira_dist.cumulative_all_points()\n"
   ]
  },
  {
   "cell_type": "code",
   "execution_count": 8,
   "id": "064907a8",
   "metadata": {
    "scrolled": false
   },
   "outputs": [],
   "source": [
    "# Valor esperado de pontos em cada subintervalo\n",
    "\n",
    "n_normal = []\n",
    "for a in range (0, len(normal_bins_number)-1):\n",
    "    ni = normal_bins_number[a] * normal_cumulativa[a+1][0]\n",
    "    n_normal.append(ni)\n",
    "    "
   ]
  },
  {
   "cell_type": "markdown",
   "id": "016b1dc2",
   "metadata": {},
   "source": [
    "## 2) Média e Variancia para Distribuição Gaussiana"
   ]
  },
  {
   "cell_type": "code",
   "execution_count": 9,
   "id": "937e7cd1",
   "metadata": {},
   "outputs": [
    {
     "name": "stdout",
     "output_type": "stream",
     "text": [
      "-0.12343695140256969\n"
     ]
    }
   ],
   "source": [
    "#Média\n",
    "n = Statistictools1(normal_points)\n",
    "normal_media = n.media_aritmetica()\n",
    "print(normal_media)"
   ]
  },
  {
   "cell_type": "code",
   "execution_count": 10,
   "id": "f2e99c3a",
   "metadata": {},
   "outputs": [
    {
     "name": "stdout",
     "output_type": "stream",
     "text": [
      "1.1588026629794175\n"
     ]
    }
   ],
   "source": [
    "#Variância\n",
    "normal_var = n.variance()\n",
    "print(normal_var)"
   ]
  },
  {
   "cell_type": "code",
   "execution_count": null,
   "id": "75ad2e01",
   "metadata": {},
   "outputs": [],
   "source": [
    "    "
   ]
  }
 ],
 "metadata": {
  "kernelspec": {
   "display_name": "Python 3 (ipykernel)",
   "language": "python",
   "name": "python3"
  },
  "language_info": {
   "codemirror_mode": {
    "name": "ipython",
    "version": 3
   },
   "file_extension": ".py",
   "mimetype": "text/x-python",
   "name": "python",
   "nbconvert_exporter": "python",
   "pygments_lexer": "ipython3",
   "version": "3.8.10"
  }
 },
 "nbformat": 4,
 "nbformat_minor": 5
}
