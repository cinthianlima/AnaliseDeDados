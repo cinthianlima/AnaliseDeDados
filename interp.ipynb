{
 "cells": [
  {
   "cell_type": "markdown",
   "metadata": {},
   "source": [
    "## Interpolação linear\n"
   ]
  },
  {
   "cell_type": "code",
   "execution_count": 1,
   "metadata": {},
   "outputs": [],
   "source": [
    "import numpy as np\n",
    "import matplotlib.pyplot as plt\n",
    "import random\n",
    "from interpolation import Interpolation\n",
    "from scipy import special \n",
    "\n",
    "pi = np.pi\n",
    "exp = np.exp\n",
    "Erf = special.erf\n"
   ]
  },
  {
   "cell_type": "markdown",
   "metadata": {},
   "source": [
    "### Constants, points, range, bins"
   ]
  },
  {
   "cell_type": "code",
   "execution_count": 9,
   "metadata": {
    "scrolled": false
   },
   "outputs": [],
   "source": [
    "#Constants:\n",
    "sigma = 1.0\n",
    "mi= 4\n",
    "\n",
    "#Range and points:\n",
    "n = 500 #number of points\n",
    "bins = 10 #number of bins\n",
    "\n",
    "#Spaces\n",
    "x = np.linspace(-5, 5.0, num=n)\n",
    "x_dist3 = np.linspace(1,7,num=n)\n",
    "s_list =np.random.uniform(0.0, 1.0, n)"
   ]
  },
  {
   "cell_type": "markdown",
   "metadata": {},
   "source": [
    "### Gaussian function"
   ]
  },
  {
   "cell_type": "code",
   "execution_count": 10,
   "metadata": {},
   "outputs": [],
   "source": [
    "#Define the gaussian function:\n",
    "def gauss (x):\n",
    "    g =[]\n",
    "        \n",
    "    for j in range(0,len(x)): \n",
    "                \n",
    "        g_i =  (1 / ( sigma * pow((2*pi),0.5)))* exp( -0.5 * pow ((x[j] - mi) / sigma, 2.0))\n",
    "        \n",
    "        g.append(g_i)\n",
    "    return g\n",
    "\n",
    "f = gauss(x)\n"
   ]
  },
  {
   "cell_type": "code",
   "execution_count": 11,
   "metadata": {},
   "outputs": [],
   "source": [
    "def dist3 (x):\n",
    "    g =[]\n",
    "    for j in range(0,len(x)): \n",
    "        g_j =  (1 / ( sigma * pow((2*pi),0.5)))* exp( -0.5 * pow (((x[j] - mi) / sigma), 2.0))\n",
    "        g_i=  (1 / ( sigma * pow((2*pi),0.5)))* exp( -0.5 * pow (((x[j] + mi) / sigma), 2.0))\n",
    "        a = Erf(mi / pow(2*sigma, 0.5))\n",
    "        \n",
    "        d = (g_j - g_i) / a\n",
    "                \n",
    "        g.append(d)\n",
    "        \n",
    "    return g\n",
    "\n",
    "dist_3 = dist3(x_dist3)"
   ]
  },
  {
   "cell_type": "code",
   "execution_count": 12,
   "metadata": {},
   "outputs": [
    {
     "name": "stdout",
     "output_type": "stream",
     "text": [
      "0.053997808692861915\n",
      "0.05399096651318806\n"
     ]
    }
   ],
   "source": [
    "point_teste = 2\n",
    "dist1 = Interpolation(f, x)\n",
    "d = dist1.interpolate()\n",
    "inter = dist1.interpolated_point(point_teste)\n",
    "print(inter)\n",
    "f1 =  (1 / ( sigma * pow((2*pi),0.5)))* exp( -0.5 * pow ((point_teste - mi) / sigma, 2.0))\n",
    "print(f1)"
   ]
  },
  {
   "cell_type": "code",
   "execution_count": 13,
   "metadata": {},
   "outputs": [],
   "source": [
    "cumul = dist1.cumulative(point_teste) \n",
    "\n",
    "cumul_all = dist1.cumulative_all_points()\n"
   ]
  },
  {
   "cell_type": "code",
   "execution_count": 14,
   "metadata": {},
   "outputs": [],
   "source": [
    "sam_points = dist1.sampler_list_points(s_list)\n"
   ]
  },
  {
   "cell_type": "code",
   "execution_count": 21,
   "metadata": {},
   "outputs": [
    {
     "data": {
      "text/plain": [
       "[<matplotlib.lines.Line2D at 0x7fcb7a0dac40>]"
      ]
     },
     "execution_count": 21,
     "metadata": {},
     "output_type": "execute_result"
    },
    {
     "data": {
      "image/png": "[encoded data removed]",
      "text/plain": [
       "<Figure size 432x288 with 1 Axes>"
      ]
     },
     "metadata": {
      "needs_background": "light"
     },
     "output_type": "display_data"
    }
   ],
   "source": [
    "dist3 = Interpolation(dist_3, x_dist3)\n",
    "\n",
    "cumul_3 = dist3.cumulative_all_points()\n",
    "cumul_list =[]\n",
    "for a in range(0, len(cumul_3)):\n",
    "    cumul_list.append(cumul_3[a][0])\n",
    "#print(cumul_3)\n",
    "plt.plot(cumul_list, \".\")"
   ]
  },
  {
   "cell_type": "code",
   "execution_count": null,
   "metadata": {},
   "outputs": [],
   "source": []
  },
  {
   "cell_type": "code",
   "execution_count": null,
   "metadata": {},
   "outputs": [],
   "source": []
  }
 ],
 "metadata": {
  "kernelspec": {
   "display_name": "Python 3 (ipykernel)",
   "language": "python",
   "name": "python3"
  },
  "language_info": {
   "codemirror_mode": {
    "name": "ipython",
    "version": 3
   },
   "file_extension": ".py",
   "mimetype": "text/x-python",
   "name": "python",
   "nbconvert_exporter": "python",
   "pygments_lexer": "ipython3",
   "version": "3.8.10"
  }
 },
 "nbformat": 4,
 "nbformat_minor": 4
}
