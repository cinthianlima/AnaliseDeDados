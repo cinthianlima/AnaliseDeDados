{
 "cells": [
  {
   "cell_type": "markdown",
   "metadata": {},
   "source": [
    "## Interpolação linear\n"
   ]
  },
  {
   "cell_type": "code",
   "execution_count": 1,
   "metadata": {},
   "outputs": [],
   "source": [
    "import numpy as np\n",
    "import matplotlib.pyplot as plt\n",
    "import random\n",
    "\n",
    "pi = np.pi\n",
    "exp = np.exp"
   ]
  },
  {
   "cell_type": "markdown",
   "metadata": {},
   "source": [
    "### Constants, points, range, bins"
   ]
  },
  {
   "cell_type": "code",
   "execution_count": 166,
   "metadata": {
    "scrolled": false
   },
   "outputs": [],
   "source": [
    "#Constants:\n",
    "sigma = 1.0\n",
    "mi= 0.0\n",
    "\n",
    "#Range and points:\n",
    "n = 1000 #number of points\n",
    "n_test = 1000\n",
    "bins = 10 #number of bins\n",
    "x = np.linspace(-5.0, 5.0, num=n)\n",
    "\n",
    "l = np.linspace(-5.0,5.0,n_test)"
   ]
  },
  {
   "cell_type": "markdown",
   "metadata": {},
   "source": [
    "### Gaussian function"
   ]
  },
  {
   "cell_type": "code",
   "execution_count": 167,
   "metadata": {},
   "outputs": [],
   "source": [
    "#Define the gaussian function:\n",
    "def gauss (x):\n",
    "    g =[]\n",
    "        \n",
    "    for j in range(0,len(x)): \n",
    "                \n",
    "        g_i =  (1 / ( sigma * pow((2*pi),0.5)))* exp( -0.5 * pow ((x[j] - mi) / sigma, 2.0))\n",
    "        \n",
    "        g.append(g_i)\n",
    "    return g\n",
    "\n",
    "f = gauss(x)"
   ]
  },
  {
   "cell_type": "markdown",
   "metadata": {},
   "source": [
    "### Linear interpolation"
   ]
  },
  {
   "cell_type": "code",
   "execution_count": 173,
   "metadata": {},
   "outputs": [
    {
     "data": {
      "text/plain": [
       "[<matplotlib.lines.Line2D at 0x7fa7f4dcbd30>]"
      ]
     },
     "execution_count": 173,
     "metadata": {},
     "output_type": "execute_result"
    },
    {
     "data": {
      "image/png": "[encoded data removed]",
      "text/plain": [
       "<Figure size 432x288 with 1 Axes>"
      ]
     },
     "metadata": {
      "needs_background": "light"
     },
     "output_type": "display_data"
    }
   ],
   "source": [
    "#Define the linear interpolation: \n",
    "# f is the distribuition\n",
    "# l is the point where the interpolated function is calculated\n",
    "\n",
    "def interpolate (f, x):\n",
    "    p=[]  \n",
    "    for i in range(0,len(x)-1):\n",
    "        dx = x[i+1] - x[i]\n",
    "        dy = f[i+1] - f[i]\n",
    "        coef_a = dy /dx\n",
    "        coef_b = -dy/dx * x[i] + f[i]\n",
    "        p.append((coef_a, coef_b, x[i], x[i+1]))\n",
    "    return p\n",
    "\n",
    "def interpolated_point(p,point):\n",
    "    for item in p:\n",
    "        if point >= item[2] and point <= item[3]:\n",
    "            return item[0]*point + item[1]\n",
    "\n",
    "\n",
    "        \n",
    "inter=[]\n",
    "real_points = gauss(l)\n",
    "coef = interpolate(f, l)\n",
    "\n",
    "for point in l:\n",
    "    inter.append(interpolated_point(coef, point))\n",
    "\n",
    "#plt.plot(l, inter)\n",
    "\n",
    "erro = []\n",
    "for i in range(0, len(l)):\n",
    "    err = inter[i] - real_points[i]\n",
    "    erro.append(err)\n",
    "     \n",
    "plt.plot(erro,\".\")"
   ]
  },
  {
   "cell_type": "markdown",
   "metadata": {},
   "source": [
    "### Cumulative"
   ]
  },
  {
   "cell_type": "code",
   "execution_count": 169,
   "metadata": {},
   "outputs": [
    {
     "data": {
      "text/plain": [
       "[<matplotlib.lines.Line2D at 0x7fa7f9e53880>]"
      ]
     },
     "execution_count": 169,
     "metadata": {},
     "output_type": "execute_result"
    },
    {
     "data": {
      "image/png": "[encoded data removed]",
      "text/plain": [
       "<Figure size 432x288 with 1 Axes>"
      ]
     },
     "metadata": {
      "needs_background": "light"
     },
     "output_type": "display_data"
    }
   ],
   "source": [
    "#Define the cumulative:\n",
    "def cumulative (coef, point):\n",
    "    integral_i =0\n",
    "    \n",
    "    for item in coef:\n",
    "        if point>= item[2] and point>= item[3]:\n",
    "            integral_i += item[0] /2 * (item[3]**2 - item[2]**2) + item[1] * (item[3] - item[2])\n",
    "        \n",
    "        elif point>= item[2] and point< item[3]:\n",
    "            integral_i += item[0] /2 * (point**2 - item[2]**2) + item[1] * (point - item[2])\n",
    "    #print (integral_i)       \n",
    "    return integral_i\n",
    "\n",
    "#A list of pairs (ci, xi):\n",
    "def cumulative_all_points(coef, x):\n",
    "    cumulative_all = []\n",
    "    for i in x:\n",
    "        c = cumulative(coef, i)\n",
    "        cumulative_all.append((c,i))\n",
    "    return cumulative_all\n",
    "\n",
    "cumulative_all = cumulative_all_points (coef, x)\n",
    "\n",
    "x_ii = []\n",
    "c_ii = []\n",
    "for i in range(0,n-1):\n",
    "    x_ii.append(cumulative_all[i][1])\n",
    "    c_ii.append(cumulative_all[i][0])\n",
    "\n",
    "plt.plot(x_ii, c_ii, \".\")"
   ]
  },
  {
   "cell_type": "code",
   "execution_count": null,
   "metadata": {},
   "outputs": [],
   "source": []
  },
  {
   "cell_type": "code",
   "execution_count": null,
   "metadata": {},
   "outputs": [],
   "source": []
  },
  {
   "cell_type": "markdown",
   "metadata": {},
   "source": [
    "### Sampler"
   ]
  },
  {
   "cell_type": "code",
   "execution_count": 170,
   "metadata": {
    "scrolled": false
   },
   "outputs": [
    {
     "data": {
      "text/plain": [
       "(array([  7.,  16.,  76., 149., 230., 244., 182.,  68.,  25.,   2.]),\n",
       " array([-3.19527761, -2.56245678, -1.92963594, -1.29681511, -0.66399428,\n",
       "        -0.03117344,  0.60164739,  1.23446823,  1.86728906,  2.5001099 ,\n",
       "         3.13293073]),\n",
       " <BarContainer object of 10 artists>)"
      ]
     },
     "execution_count": 170,
     "metadata": {},
     "output_type": "execute_result"
    },
    {
     "data": {
      "image/png": "[encoded data removed]",
      "text/plain": [
       "<Figure size 432x288 with 1 Axes>"
      ]
     },
     "metadata": {
      "needs_background": "light"
     },
     "output_type": "display_data"
    }
   ],
   "source": [
    "#Define the sampler:\n",
    "def sampler(cumulative_all, t):\n",
    "    sampler_list=[] \n",
    "    for j in range(len(cumulative_all)-1):\n",
    "        dc = cumulative_all[j+1][0] - cumulative_all[j][0]\n",
    "        dx = cumulative_all[j+1][1] - cumulative_all[j][1]\n",
    "        coefs_a = dx /dc\n",
    "        coefs_b = -dx/dc * cumulative_all[j][0] + cumulative_all[j][1]\n",
    "        sampler_list.append((coefs_a, coefs_b, cumulative_all[j][0], cumulative_all[j+1][0]))\n",
    "       \n",
    "    for item in sampler_list:\n",
    "        if t >= item[2] and t <= item[3]:\n",
    "            return item[0]*t + item[1]\n",
    "\n",
    "\n",
    "\n",
    "#A list of sampler point\n",
    "def sampler_points(cumulative_all, s_list):\n",
    "    sampl_points = []\n",
    "    for i in range(len(s_list)-1):\n",
    "        s = sampler(cumulative_all, s_list[i])\n",
    "        sampl_points.append(s)\n",
    "    \n",
    "    return sampl_points\n",
    "\n",
    "s_list = np.random.uniform(0,1.0,1000)\n",
    "samplerpoints = sampler_points(cumulative_all, s_list)\n",
    "\n",
    "plt.hist(samplerpoints)"
   ]
  },
  {
   "cell_type": "code",
   "execution_count": null,
   "metadata": {},
   "outputs": [],
   "source": []
  },
  {
   "cell_type": "code",
   "execution_count": null,
   "metadata": {},
   "outputs": [],
   "source": []
  },
  {
   "cell_type": "code",
   "execution_count": null,
   "metadata": {},
   "outputs": [],
   "source": []
  },
  {
   "cell_type": "code",
   "execution_count": null,
   "metadata": {},
   "outputs": [],
   "source": []
  }
 ],
 "metadata": {
  "kernelspec": {
   "display_name": "Python 3 (ipykernel)",
   "language": "python",
   "name": "python3"
  },
  "language_info": {
   "codemirror_mode": {
    "name": "ipython",
    "version": 3
   },
   "file_extension": ".py",
   "mimetype": "text/x-python",
   "name": "python",
   "nbconvert_exporter": "python",
   "pygments_lexer": "ipython3",
   "version": "3.8.10"
  }
 },
 "nbformat": 4,
 "nbformat_minor": 4
}
