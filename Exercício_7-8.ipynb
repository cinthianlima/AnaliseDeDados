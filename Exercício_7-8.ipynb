{
 "cells": [
  {
   "cell_type": "code",
   "execution_count": 2,
   "id": "bd401e82",
   "metadata": {},
   "outputs": [],
   "source": [
    "import numpy as np\n",
    "import matplotlib.pyplot as plt\n",
    "import random\n",
    "import math as mt\n",
    "import statisticaltools \n",
    "\n",
    "pi = np.pi\n",
    "exp = np.exp"
   ]
  },
  {
   "cell_type": "markdown",
   "id": "3b4762f3",
   "metadata": {},
   "source": [
    "### 7) Gaussiana multivariada"
   ]
  },
  {
   "cell_type": "markdown",
   "id": "e4e6e5e0",
   "metadata": {},
   "source": [
    "A gaussiana multivariada é dada por\n",
    "\\begin{equation}\n",
    "P(x, y) = \\frac{e^{-\\frac{1}{2}{\\left(\\frac{x - \\mu_{x}}{\\sigma_{x}} \\right)}^{2} -\\frac{1}{2} {\\left(\\frac{y - \\mu_{y}}{\\sigma_{y}} \\right)}}}{2\\pi\\sigma_{x}\\sigma_{y} }.\n",
    "\\end{equation}\n",
    "\n",
    "Para\n",
    "\\begin{equation}\n",
    "{\\chi}^{2} = {{\\left(\\frac{x - \\mu_{x}}{\\sigma_{x}} \\right)}^{2} + {\\left(\\frac{y - \\mu_{y}}{\\sigma_{y}} \\right)}^{2}}\n",
    "\\end{equation}\n",
    "temos \n",
    "\\begin{equation}\n",
    "P(x, y) = \\frac{e^{-\\frac{{\\chi}^{2}}{2}}}{2\\pi\\sigma_{x}\\sigma_{y} }.\n",
    "\\end{equation}\n",
    "\n",
    "${\\chi}^{2}$ pode ser entendido como o raio de uma circunferencia e assim integramos na área dessa circunferência. Para facilitar podemos utilizar coordenadas polares, de forma que:\n",
    "\\begin{equation}\n",
    "u = \\frac{x - \\mu_{x}}{\\sigma_{x}} , v = \\frac{y - \\mu_{y}}{\\sigma_{y}};\n",
    "\\end{equation}\n",
    "\n",
    "\\begin{equation}\n",
    "du = \\frac{dx}{\\sigma_{x}} , v = \\frac{dy}{\\sigma_{y}};\n",
    "\\end{equation}\n",
    "\n",
    "\\begin{equation}\n",
    "u = r sen \\theta , v = r cos \\theta.\n",
    "\\end{equation}\n",
    "\n",
    "Assim, a integral fica\n",
    "\\begin{equation}\n",
    "P(n \\sigma) = \\int_{0}^{2 \\pi} \\int_{0}^{\\chi} \\frac{e^{-\\frac{{r}^{2}}{2}}}{2 \\pi } r dr d\\theta\n",
    "\\end{equation}\n",
    "\n",
    "\\begin{equation}\n",
    "P(n \\sigma) =  \\int_{0}^{\\chi} e^{-\\frac{{r}^{2}}{2}} r dr\n",
    "\\end{equation}\n",
    "\n",
    "Se fizermos a mudança de variável ${r}^{2} = w \\Rightarrow 2rdr = dw $, e os intervalos ficam $r =0 \\Rightarrow w=0$ e $r =\\chi \\Rightarrow w={\\chi}^{2}$. Assim, a integral fica\n",
    "\n",
    "\\begin{equation}\n",
    "P(n \\sigma) =  \\frac{1}{2} \\int_{0}^{{\\chi}^2} \\frac{e^{-\\frac{w}{2}}}{2} dw.\n",
    "\\end{equation}\n",
    "\n",
    "Portanto,\n",
    "\\begin{equation}\n",
    "P(n \\sigma) =  1 - e^{-\\frac{\\chi^2}{2}}.\n",
    "\\end{equation}\n",
    "\n",
    "Agora, podemos calcular para n =1, 2, 3."
   ]
  },
  {
   "cell_type": "code",
   "execution_count": 6,
   "id": "657d2b51",
   "metadata": {},
   "outputs": [
    {
     "name": "stdout",
     "output_type": "stream",
     "text": [
      "0.3934693402873666\n",
      "0.8646647167633873\n",
      "0.9888910034617577\n"
     ]
    }
   ],
   "source": [
    "n = [1, 2, 3]\n",
    "\n",
    "for j in n:  \n",
    "    print(1 - exp(-((j) ** 2) / 2))"
   ]
  },
  {
   "cell_type": "markdown",
   "id": "e46940dc",
   "metadata": {},
   "source": [
    "### 8) Distribuição binormal considerando ${\\chi}^{2} = −2 ln(n_0 P)$, $P = e^{\\frac{-{\\chi}^{2}}{n_0)}}$"
   ]
  },
  {
   "cell_type": "markdown",
   "id": "4edb152a",
   "metadata": {},
   "source": [
    "\\begin{equation}\n",
    "P(x, y) = \\frac{1}{2 \\pi \\sigma_{x} \\sigma_{y} (1 - \\rho^2)^{1/2}} exp \\{ - \\frac{1}{2(1 - \\rho^2)} \\left[ {{\\left(\\frac{x - \\mu_{x}}{\\sigma_{x}} \\right)}^{2} + {\\left(\\frac{y - \\mu_{y}}{\\sigma_{y}} \\right)}^{2}} \\right]\\}\n",
    "\\end{equation}\n"
   ]
  },
  {
   "cell_type": "code",
   "execution_count": null,
   "id": "02dc067d",
   "metadata": {},
   "outputs": [],
   "source": []
  },
  {
   "cell_type": "code",
   "execution_count": null,
   "id": "39ce103c",
   "metadata": {},
   "outputs": [],
   "source": []
  },
  {
   "cell_type": "code",
   "execution_count": null,
   "id": "d3bc66fa",
   "metadata": {},
   "outputs": [],
   "source": []
  }
 ],
 "metadata": {
  "kernelspec": {
   "display_name": "Python 3 (ipykernel)",
   "language": "python",
   "name": "python3"
  },
  "language_info": {
   "codemirror_mode": {
    "name": "ipython",
    "version": 3
   },
   "file_extension": ".py",
   "mimetype": "text/x-python",
   "name": "python",
   "nbconvert_exporter": "python",
   "pygments_lexer": "ipython3",
   "version": "3.8.10"
  }
 },
 "nbformat": 4,
 "nbformat_minor": 5
}
