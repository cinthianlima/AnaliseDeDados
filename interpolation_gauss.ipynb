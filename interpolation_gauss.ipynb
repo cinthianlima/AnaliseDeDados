{
 "cells": [
  {
   "cell_type": "markdown",
   "metadata": {},
   "source": [
    "## Interpolação linear\n"
   ]
  },
  {
   "cell_type": "code",
   "execution_count": 7,
   "metadata": {},
   "outputs": [],
   "source": [
    "import numpy as np\n",
    "import matplotlib.pyplot as plt\n",
    "import random\n",
    "\n",
    "pi = np.pi\n",
    "exp = np.exp"
   ]
  },
  {
   "cell_type": "code",
   "execution_count": 79,
   "metadata": {
    "scrolled": false
   },
   "outputs": [],
   "source": [
    "#Constants:\n",
    "sigma = 1.0\n",
    "mi= 0.0\n",
    "\n",
    "#Range and points:\n",
    "n = 100\n",
    "x = np.linspace(-5.0, 5.0, num=n)\n",
    "\n",
    "\n",
    "#Define the gaussian function:\n",
    "def gauss (x):\n",
    "    g =[]\n",
    "        \n",
    "    for j in range(0,n): \n",
    "                \n",
    "        g_i =  (1 / ( sigma * pow((2*pi),0.5)))* exp( -0.5 * pow ((x[j] - mi) / sigma, 2.0))\n",
    "        \n",
    "        g.append(g_i)\n",
    "    return g\n",
    "z=gauss(x)\n",
    "\n",
    "#Define the linear interpolation: \n",
    "def interpolate (z, x, l):\n",
    "    p=[]  \n",
    "    for i in range(0,n-1):\n",
    "        dx = x[i+1] - x[i]\n",
    "        dy = z[i+1] - z[i]\n",
    "        coef_a = dy /dx\n",
    "        coef_b = -dy/dx * x[i] + z[i]\n",
    "        p.append((x[i],x[i+1], coef_a, coef_b))\n",
    "    for item in p:\n",
    "        if l >= item[0] and l<= item[1]:\n",
    "            return item[2]*l + item[3], p\n",
    "\n",
    "#Define the cumulative:\n",
    "def cumulative (p, x, l):\n",
    "    cumulative_list = []\n",
    "    integral_i =0\n",
    "    for item in p:\n",
    "        if l>= item[0] and l>= item[1]:\n",
    "            integral_i += item[2] /2 * (item[1]**2 - item[0]**2) + item[3] * (item[1] - item[0])\n",
    "        elif l>= item[0] and l< item[0]:\n",
    "            integral_i += item[2] /2 * (l**2 - item[0]**2) + item[3] * (l - item[0])\n",
    "    return integral_i\n",
    "\n",
    "#A list of pairs (ci, xi):\n",
    "def cumulative_all_points(p, x):\n",
    "    cumulative_all = []\n",
    "    for i in x:\n",
    "        c = cumulative(p, x, i)\n",
    "        cumulative_all.append((c, i))\n",
    "    return cumulative_all\n",
    "result_interp, p = interpolate(z,x,2)\n",
    "cumulative_all = cumulative_all_points (p, x)\n",
    "\n",
    "#Define the sampler:\n",
    "def sampler(cumulative_all, t):\n",
    "    sampler_list=[] \n",
    "    for j in range(0, n-1):\n",
    "        dc = cumulative_all[j+1][0] - cumulative_all[j][0]\n",
    "        dx = cumulative_all[j+1][1] - cumulative_all[j][1]\n",
    "        coefs_a = dx /dc\n",
    "        coefs_b = -dx/dc * cumulative_all[j][0] + cumulative_all[j][1]\n",
    "        sampler_list.append((cumulative_all[j][0], cumulative_all[j+1][0], coefs_a, coefs_b))\n",
    "    for item in sampler_list:\n",
    "        if t >= item[0] and t<= item[1]:\n",
    "            return item[2]*t + item[3], t\n",
    "\n",
    "\n",
    "#A list of sampler points\n",
    "def sampler_points(cumulative_all, s_list):\n",
    "    sampl_points = []\n",
    "    for i in s_list:\n",
    "        s = sampler(cumulative_all, i)\n",
    "        sampl_points.append(s)\n",
    "    return sampl_points\n",
    "\n",
    "s_list = np.random.uniform(0,1,n)\n",
    "samplerpoints = sampler_points(cumulative_all, s_list)"
   ]
  },
  {
   "cell_type": "code",
   "execution_count": null,
   "metadata": {},
   "outputs": [],
   "source": []
  },
  {
   "cell_type": "code",
   "execution_count": null,
   "metadata": {},
   "outputs": [],
   "source": []
  },
  {
   "cell_type": "code",
   "execution_count": null,
   "metadata": {},
   "outputs": [],
   "source": []
  },
  {
   "cell_type": "code",
   "execution_count": null,
   "metadata": {},
   "outputs": [],
   "source": []
  },
  {
   "cell_type": "code",
   "execution_count": 83,
   "metadata": {},
   "outputs": [
    {
     "data": {
      "image/png": "[encoded data removed]",
      "text/plain": [
       "<Figure size 432x288 with 1 Axes>"
      ]
     },
     "metadata": {
      "needs_background": "light"
     },
     "output_type": "display_data"
    }
   ],
   "source": [
    "##################################################################################################################\n",
    "\n",
    "#                                                 TESTS\n",
    "\n",
    "##################################################################################################################\n",
    "\n",
    "#print(cumulative_all)\n",
    "# ponto = 5\n",
    "# m, p = interpolate(z,x,ponto)\n",
    "# teste = (1 / ( sigma * pow((2*pi),0.5)))* exp( -0.5 * pow ((ponto - mi) / sigma, 2.0))\n",
    "# teste_c = cumulative(p,x, ponto)\n",
    "# yn = sampler(cumulative_all, 0.5)\n",
    "\n",
    "\n",
    "#for sampler:\n",
    "x_i = []\n",
    "c_i = []\n",
    "for i in range(0,n-1):\n",
    "    x_i.append(samplerpoints[i][0])\n",
    "    c_i.append(samplerpoints[i][1])\n",
    "\n",
    "\n",
    "#Absolute error for interpolation:\n",
    "\n",
    "def abs_error(z,s_list):\n",
    "    interp_i =[]\n",
    "    err = []\n",
    "    for i in range(0,n-1):\n",
    "        interp_i.append(interpolate(z,x,s_list[i]))\n",
    "        \n",
    "        err.append(abs(interp_i[i][0] - z[i]))\n",
    "    return err\n",
    "    \n",
    "plt.plot(abs_error(z,x), \".\")\n",
    "\n",
    "#for cumulative:\n",
    "x_ii = []\n",
    "c_ii = []\n",
    "for i in range(0,n-1):\n",
    "    x_ii.append(cumulative_all[i][1])\n",
    "    c_ii.append(cumulative_all[i][0])\n",
    "\n",
    "#Sampler error:\n",
    "\n",
    "#print(x_i)\n",
    "#print(c_i)\n",
    "#plt.hist(x_i,100 )\n",
    "#plt.hist(x_i, 100)\n"
   ]
  },
  {
   "cell_type": "code",
   "execution_count": null,
   "metadata": {},
   "outputs": [],
   "source": []
  }
 ],
 "metadata": {
  "kernelspec": {
   "display_name": "Python 3",
   "language": "python",
   "name": "python3"
  },
  "language_info": {
   "codemirror_mode": {
    "name": "ipython",
    "version": 3
   },
   "file_extension": ".py",
   "mimetype": "text/x-python",
   "name": "python",
   "nbconvert_exporter": "python",
   "pygments_lexer": "ipython3",
   "version": "3.7.3"
  }
 },
 "nbformat": 4,
 "nbformat_minor": 4
}
