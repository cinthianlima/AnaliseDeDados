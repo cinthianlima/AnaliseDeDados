{
 "cells": [
  {
   "cell_type": "markdown",
   "id": "2fe509f9",
   "metadata": {},
   "source": [
    "### Packages"
   ]
  },
  {
   "cell_type": "code",
   "execution_count": 1,
   "id": "5fbbdc01",
   "metadata": {},
   "outputs": [],
   "source": [
    "import numpy as np\n",
    "import matplotlib.pyplot as plt\n",
    "import random\n",
    "from statisticaltools import InterCumulSamp\n",
    "from statisticaltools import Statisticaltools1\n",
    "from statisticaltools import Statisticaltools2\n",
    "from scipy import special \n",
    "import statistics\n",
    "pi = np.pi\n",
    "exp = np.exp\n",
    "Erf = special.erf"
   ]
  },
  {
   "cell_type": "markdown",
   "id": "1811b6b3",
   "metadata": {},
   "source": [
    "### Distribuitions"
   ]
  },
  {
   "cell_type": "code",
   "execution_count": 2,
   "id": "feb9d865",
   "metadata": {},
   "outputs": [],
   "source": [
    "# Uniform\n",
    "\n",
    "# uniform = np.random.uniform(0,1,n) pontos da distribuição uniforme\n",
    "\n",
    "#Normal\n",
    "\n",
    "#Gaussian function:\n",
    "def gauss (x):\n",
    "    g =[]\n",
    "        \n",
    "    for j in range(0,len(x)): \n",
    "                \n",
    "        g_i =  (1 / ( sigma * pow((2*pi),0.5)))* exp( -0.5 * pow ((x[j] - mi_gauss) / sigma, 2.0))\n",
    "        \n",
    "        g.append(g_i)\n",
    "    return g\n",
    "\n",
    "\n",
    "#Third distribuition:\n",
    "\n",
    "def dist3 (x):\n",
    "    g =[]\n",
    "    for j in range(0,len(x)): \n",
    "        g_j =  (1 / ( sigma * pow((2*pi),0.5)))* exp( -0.5 * pow (((x[j] - mi) / sigma), 2.0))\n",
    "        g_i=  (1 / ( sigma * pow((2*pi),0.5)))* exp( -0.5 * pow (((x[j] + mi) / sigma), 2.0))\n",
    "        a = Erf(mi / pow(2*sigma, 0.5))\n",
    "        \n",
    "        d = (g_j - g_i) / a\n",
    "                \n",
    "        g.append(d)\n",
    "        \n",
    "    return g"
   ]
  },
  {
   "cell_type": "markdown",
   "id": "8bee67a0",
   "metadata": {},
   "source": [
    "### Estimators"
   ]
  },
  {
   "cell_type": "code",
   "execution_count": 5,
   "id": "8a0f9132",
   "metadata": {},
   "outputs": [],
   "source": [
    "#Constants:\n",
    "sigma = 1.0\n",
    "mi = 4\n",
    "mi_gauss = 0.0\n",
    "\n",
    "#Range and points:\n",
    "n = 100 #number of points\n",
    "\n",
    "#Spaces\n",
    "x = np.linspace(-5, 5.0, num=n)\n",
    "x_dist3 = np.linspace(1,10,num=n)\n",
    "s_list =np.random.uniform(0.0, 1.0, n)\n",
    "\n",
    "# Uniform:\n",
    "uniform = np.random.uniform(0,1,n)\n",
    "uniform_obj = Statisticaltools1(uniform)\n",
    "\n",
    "# Normal:\n",
    "normal = gauss(x)\n",
    "normal_dist = InterCumulSamp(normal, x)\n",
    "normal_points = normal_dist.sampler_list_points(s_list)\n",
    "normal_obj = Statisticaltools1(normal_points)\n",
    "\n",
    "#Distribuition 3:\n",
    "dist_3 = dist3 (x_dist3)\n",
    "terceira_dist = InterCumulSamp(dist_3, x_dist3)\n",
    "ter_points = terceira_dist.sampler_list_points(s_list)\n",
    "ter_obj = Statisticaltools1(ter_points)"
   ]
  },
  {
   "cell_type": "code",
   "execution_count": 6,
   "id": "dc074a47",
   "metadata": {},
   "outputs": [
    {
     "name": "stderr",
     "output_type": "stream",
     "text": [
      "/tmp/ipykernel_8170/3702943087.py:45: RuntimeWarning: invalid value encountered in double_scalars\n",
      "  m2_est5 = (multip(normal_points)) ** (1/len(normal_points))\n"
     ]
    }
   ],
   "source": [
    "#Estimator 1\n",
    "soma1 = uniform_obj.soma()\n",
    "soma2 = normal_obj.soma()\n",
    "soma3 = ter_obj.soma()\n",
    "\n",
    "m1_est1 = soma1/len(uniform)\n",
    "m2_est1 = soma2/len(normal_points)\n",
    "m3_est1 = soma3/len(ter_points)\n",
    "\n",
    "#Estimator 2\n",
    "obj1 = []\n",
    "obj2 = []\n",
    "obj3 = []\n",
    "for i in range(0,9):\n",
    "    obj1.append(uniform[i])\n",
    "    obj2.append(normal_points[i])\n",
    "    obj3.append(ter_points[i])\n",
    "\n",
    "o1 = Statisticaltools1(obj1)\n",
    "o2 = Statisticaltools1(obj2)\n",
    "o3 = Statisticaltools1(obj3)\n",
    "\n",
    "m1_est2 = (o1.soma())/10\n",
    "m2_est2 = (o2.soma())/10\n",
    "m3_est2 = (o3.soma())/10\n",
    "\n",
    "#Estimator 3\n",
    "m1_est3 = soma1/(len(uniform) - 1)\n",
    "m2_est3 = soma2/(len(normal_points)- 1)\n",
    "m3_est3 = soma3/(len(ter_points) - 1)\n",
    "\n",
    "#Estimator 4\n",
    "m1_est4 = 1.8\n",
    "m2_est4 = 1.8\n",
    "m3_est4 = 1.8\n",
    "\n",
    "#Estimator 5\n",
    "def multip(list):\n",
    "    k=1\n",
    "    for s in list:\n",
    "        k = k*s\n",
    "    return(k)\n",
    "\n",
    "m1_est5 = (multip(uniform)) ** (1/len(uniform))\n",
    "m2_est5 = (multip(normal_points)) ** (1/len(normal_points))\n",
    "m3_est5 = (multip(ter_points)) ** (1/len(ter_points))\n",
    "\n",
    "#Estimator 6\n",
    "m1_est6 = statistics.mode(uniform)\n",
    "m2_est6 = statistics.mode(normal_points)\n",
    "m3_est6 = statistics.mode(ter_points)\n",
    "\n",
    "#Estimator 7\n",
    "m1_est7 = (min(uniform) + max(uniform)) / 2\n",
    "m2_est7 = (min(normal_points) + max(normal_points)) / 2\n",
    "m3_est7 = (min(ter_points) + max(ter_points)) / 2\n",
    "\n",
    "#Estimator 8\n",
    "def som2(list):\n",
    "    k=0\n",
    "    for s in range(0, n -1, 2):\n",
    "        k = k + list[s+1]\n",
    "    return(k)\n",
    "\n",
    "som1 = som2(uniform)\n",
    "som2 = som2(normal_points)\n",
    "#som3 = som2(ter_points)\n",
    "\n",
    "def estimador8(soma,list):\n",
    "    if (len(list)%2) == 0:\n",
    "        est = soma / (len(list) / 2)\n",
    "\n",
    "    else:\n",
    "        est = soma / ((len(list) - 1) / 2)\n",
    "    return (est)\n",
    "\n",
    "m1_est8 = estimador8(som1,uniform)\n",
    "m2_est8 = estimador8(som2,normal_points)\n",
    "#m3_est8 = estimador8(som3,ter_points)\n"
   ]
  },
  {
   "cell_type": "code",
   "execution_count": 7,
   "id": "f945157f",
   "metadata": {},
   "outputs": [],
   "source": [
    "Lista_estimadores = [m1_est1, m2_est1, m3_est1, m1_est2, m2_est2, m3_est2,\n",
    "                        m1_est3, m2_est3, m3_est3, m1_est4, m2_est4, m3_est4,\n",
    "                        m1_est5, m2_est5, m3_est5, m1_est6, m2_est6, m3_est6,\n",
    "                        m1_est7, m2_est7, m3_est7, m1_est8, m2_est8, 0]\n",
    "\n",
    "\n",
    "Lista_medias = [uniform_obj.media_aritmetica(), normal_obj.media_aritmetica(), ter_obj.media_aritmetica()]"
   ]
  },
  {
   "cell_type": "markdown",
   "id": "e802a573",
   "metadata": {},
   "source": [
    "### Consistency test"
   ]
  },
  {
   "cell_type": "code",
   "execution_count": 8,
   "id": "efe234a1",
   "metadata": {},
   "outputs": [],
   "source": [
    "#Consistencia\n",
    "teste_c_uniform=[]\n",
    "teste_c_normal=[]\n",
    "teste_c_terceira=[]\n",
    "for i in range(0, len(Lista_estimadores) - 2, 3):\n",
    "    c1 = Lista_estimadores[i] - Lista_medias[1]\n",
    "    c2 = Lista_estimadores[i+1] - Lista_medias[1]\n",
    "    c3 = Lista_estimadores[i+2] - Lista_medias[1]\n",
    "    \n",
    "    teste_c_uniform.append(c1)\n",
    "    teste_c_normal.append(c2)\n",
    "    teste_c_terceira.append(c3)"
   ]
  },
  {
   "cell_type": "code",
   "execution_count": 9,
   "id": "12cf5970",
   "metadata": {},
   "outputs": [
    {
     "name": "stdout",
     "output_type": "stream",
     "text": [
      "[0.6520234239949428, 0.6006852319241784, 0.6570331802249948, 1.9560575572197965, 0.5125469084076874, 0.2290802860585918, 0.6590764648256309, 0.6114985190894922]\n"
     ]
    }
   ],
   "source": [
    "print(teste_c_uniform)"
   ]
  },
  {
   "cell_type": "code",
   "execution_count": 10,
   "id": "7b0916ea",
   "metadata": {},
   "outputs": [
    {
     "name": "stdout",
     "output_type": "stream",
     "text": [
      "[0.0, -0.0038988107011947715, -0.0015763389618161372, 1.9560575572197965, nan, -2.0917449483004193, -0.13037359107837496, 0.10506861731184508]\n"
     ]
    }
   ],
   "source": [
    "print(teste_c_normal)"
   ]
  },
  {
   "cell_type": "code",
   "execution_count": 11,
   "id": "1f6934bb",
   "metadata": {},
   "outputs": [
    {
     "name": "stdout",
     "output_type": "stream",
     "text": [
      "[4.0085843259998555, 3.6069034639392616, 4.047498737805714, 1.9560575572197965, 3.8615100933025532, 1.949395071595865, 3.9544201214472694, 0.15605755721979644]\n"
     ]
    }
   ],
   "source": [
    "print(teste_c_terceira)"
   ]
  },
  {
   "cell_type": "markdown",
   "id": "3a842646",
   "metadata": {},
   "source": [
    "### Bias test"
   ]
  },
  {
   "cell_type": "code",
   "execution_count": 12,
   "id": "e8e3d691",
   "metadata": {},
   "outputs": [
    {
     "name": "stderr",
     "output_type": "stream",
     "text": [
      "/tmp/ipykernel_8170/1741441290.py:79: RuntimeWarning: invalid value encountered in double_scalars\n",
      "  m2_est5 = (multip(normal_points)) ** (1/len(normal_points))\n"
     ]
    }
   ],
   "source": [
    "# Viés\n",
    "\n",
    "#Calculando os estimadores h vezes\n",
    "\n",
    "Lista_calc_estimadores = []\n",
    "h =1000\n",
    "for q in range(h):\n",
    "    #Spaces\n",
    "    x = np.linspace(-5, 5.0, num=n)\n",
    "    x_dist3 = np.linspace(1,10,num=n)\n",
    "    s_list =np.random.uniform(0.0, 1.0, n)\n",
    "\n",
    "    # Uniform:\n",
    "    uniform = np.random.uniform(0,1,n)\n",
    "    uniform_obj = Statisticaltools1(uniform)\n",
    "\n",
    "    # Normal:\n",
    "    normal = gauss(x)\n",
    "    normal_dist = InterCumulSamp(normal, x)\n",
    "    normal_points = normal_dist.sampler_list_points(s_list)\n",
    "    normal_obj = Statisticaltools1(normal_points)\n",
    "\n",
    "    #Distribuição 3:\n",
    "    dist_3 = dist3 (x_dist3)\n",
    "    terceira_dist = InterCumulSamp(dist_3, x_dist3)\n",
    "    ter_points = terceira_dist.sampler_list_points(s_list)\n",
    "#    ter_obj = Statisticaltools1(ter_points)\n",
    "    \n",
    "\n",
    "\n",
    "    #Estimador 1\n",
    "    soma1 = uniform_obj.soma()\n",
    "    soma2 = normal_obj.soma()\n",
    "    soma3 = ter_obj.soma()\n",
    "\n",
    "    m1_est1 = soma1/len(uniform)\n",
    "    m2_est1 = soma2/len(normal_points)\n",
    "#    m3_est1 = soma3/len(ter_points)\n",
    "    \n",
    "\n",
    "    #Estimador 2\n",
    "    obj1 = []\n",
    "    obj2 = []\n",
    "    obj3 = []\n",
    "    for i in range(0,9):\n",
    "        obj1.append(uniform[i])\n",
    "        obj2.append(normal_points[i])\n",
    "        obj3.append(ter_points[i])\n",
    "\n",
    "    o1 = Statisticaltools1(obj1)\n",
    "    o2 = Statisticaltools1(obj2)\n",
    "#    o3 = Statisticaltools1(obj3)\n",
    "\n",
    "    m1_est2 = (o1.soma())/10\n",
    "    m2_est2 = (o2.soma())/10\n",
    "#    m3_est2 = (o3.soma())/10\n",
    "\n",
    "\n",
    "    #Estimador 3\n",
    "    m1_est3 = soma1/(len(uniform) - 1)\n",
    "    m2_est3 = soma2/(len(normal_points)- 1)\n",
    "#    m3_est3 = soma3/(len(ter_points) - 1)\n",
    "\n",
    "\n",
    "    #Estimador 4\n",
    "    m1_est4 = 1.8\n",
    "    m2_est4 = 1.8\n",
    "#    m3_est4 = 1.8\n",
    "\n",
    "    \n",
    "    #Estimador 5\n",
    "    def multip(list):\n",
    "        k=1\n",
    "        for s in list:\n",
    "            k = k*s\n",
    "        return(k)\n",
    "\n",
    "    m1_est5 = (multip(uniform)) ** (1/len(uniform))\n",
    "    m2_est5 = (multip(normal_points)) ** (1/len(normal_points))\n",
    "#    m3_est5 = (multip(ter_points)) ** (1/len(ter_points))\n",
    "\n",
    "\n",
    "    \n",
    "    #Estimador 6\n",
    "    m1_est6 = statistics.mode(uniform)\n",
    "    m2_est6 = statistics.mode(normal_points)\n",
    "#    m3_est6 = statistics.mode(ter_points)\n",
    "\n",
    "    \n",
    "    #Estimador 7\n",
    "    m1_est7 = (min(uniform) + max(uniform)) / 2\n",
    "    m2_est7 = (min(normal_points) + max(normal_points)) / 2\n",
    "#    m3_est7 = (min(ter_points) + max(ter_points)) / 2\n",
    "\n",
    "    \n",
    "    #Estimador 8\n",
    "    def som2(list):\n",
    "        k=0\n",
    "        for s in range(0, n -1, 2):\n",
    "            k = k + list[s+1]\n",
    "        return(k)\n",
    "\n",
    "    som1 = som2(uniform)\n",
    "    som2 = som2(normal_points)\n",
    "#    som3 = som2(ter_points)\n",
    "\n",
    "    def estimador8(soma,list):\n",
    "        if (len(list)%2) == 0:\n",
    "            est = soma / (len(list) / 2)\n",
    "\n",
    "        else:\n",
    "            est = soma / ((len(list) - 1) / 2)\n",
    "        return (est)\n",
    "\n",
    "    m1_est8 = estimador8(som1,uniform)\n",
    "    m2_est8 = estimador8(som2,normal_points)\n",
    "#    m3_est8 = estimador8(som3,ter_points)\n",
    "   \n",
    "    Lista_calc_estimadores.append((m1_est1, m2_est1, m3_est1, m1_est2, m2_est2, m3_est2,\n",
    "                                  m1_est3, m2_est3, m3_est3, m1_est4, m2_est4, m3_est4,\n",
    "                                  m1_est5, m2_est5, m3_est5, m1_est6, m2_est6, m3_est6,\n",
    "                                  m1_est7, m2_est7, m3_est7, m1_est8, m2_est8, 0))\n",
    "    \n"
   ]
  },
  {
   "cell_type": "code",
   "execution_count": 13,
   "id": "fe2f5c4f",
   "metadata": {},
   "outputs": [],
   "source": [
    "#tirando a média de cada estimador\n",
    "\n",
    "medias_est =[]\n",
    "for j in range (0,24):\n",
    "    \n",
    "    l =[]\n",
    "    for i in range(0,h):\n",
    "        li = Lista_calc_estimadores[i][j]\n",
    "        l.append(li)\n",
    "    \n",
    "    l_obj = Statisticaltools1(l)\n",
    "    \n",
    "\n",
    "    l_media = l_obj.media_aritmetica()\n",
    "    medias_est.append(l_media)\n"
   ]
  },
  {
   "cell_type": "code",
   "execution_count": 14,
   "id": "5dbb76c3",
   "metadata": {},
   "outputs": [],
   "source": [
    "#Viés\n",
    "\n",
    "teste_v_uniform=[]\n",
    "teste_v_normal=[]\n",
    "# teste_c_terceira=[]\n",
    "for i in range(0, len(medias_est)-1, 3):\n",
    "    v1 = medias_est[i] - Lista_medias[1]\n",
    "    v2 = medias_est[i+1] - Lista_medias[1]\n",
    "#    v3 = medias_est[i+2] - Lista_medias[1]\n",
    "    \n",
    "    teste_v_uniform.append(v1)\n",
    "    teste_v_normal.append(v2)\n",
    "#    teste_c_terceira.append(v3)"
   ]
  },
  {
   "cell_type": "code",
   "execution_count": 15,
   "id": "010126e3",
   "metadata": {},
   "outputs": [
    {
     "name": "stdout",
     "output_type": "stream",
     "text": [
      "[0.6567577243595102, 0.601893170281217, 0.6618153018053661, 1.9560575572197663, 0.5255645045265253, 0.6602275915423222, 0.6559289818932925, 0.6565127999709423]\n"
     ]
    }
   ],
   "source": [
    "print(teste_v_uniform)"
   ]
  },
  {
   "cell_type": "code",
   "execution_count": 16,
   "id": "0b4d2d67",
   "metadata": {},
   "outputs": [
    {
     "name": "stdout",
     "output_type": "stream",
     "text": [
      "[0.16190557333779015, 0.16716923371482864, 0.1619646442076689, 1.9560575572197663, nan, 0.13419515936937404, 0.1695800984821424, 0.1609696080970755]\n"
     ]
    }
   ],
   "source": [
    "print(teste_v_normal)"
   ]
  },
  {
   "cell_type": "markdown",
   "id": "e18d6345",
   "metadata": {},
   "source": [
    "### Efficiency test"
   ]
  },
  {
   "cell_type": "code",
   "execution_count": 17,
   "id": "7558d2c1",
   "metadata": {},
   "outputs": [],
   "source": [
    "#Eficiência\n",
    "\n",
    "#Fazendo a variância de cada estimador calculado h vezes\n",
    "\n",
    "variancias_est =[]\n",
    "for j in range (0,24):\n",
    "    \n",
    "    l =[]\n",
    "    for i in range(0,h):\n",
    "        li = Lista_calc_estimadores[i][j]\n",
    "        l.append(li)\n",
    "    \n",
    "    l_obj = Statisticaltools1(l)\n",
    "    \n",
    "\n",
    "    l_variance = l_obj.variance()\n",
    "    variancias_est.append(l_variance)\n",
    "\n",
    "teste_e_uniform = []\n",
    "teste_e_normal = []\n",
    "teste_e_dist3 = []\n",
    "for i in range(0, len(variancias_est)-2, 3):\n",
    "    t1 = variancias_est[i]\n",
    "    t2 = variancias_est[i+1]\n",
    "    t3 = [i+2]\n",
    "\n",
    "    teste_e_uniform.append(t1)\n",
    "    teste_e_normal.append(t2)\n",
    "    teste_e_dist3.append(t3)\n",
    "    "
   ]
  },
  {
   "cell_type": "code",
   "execution_count": 18,
   "id": "a69ad5b0",
   "metadata": {},
   "outputs": [
    {
     "name": "stdout",
     "output_type": "stream",
     "text": [
      "[0.000832563410659093, 0.00689047459671032, 0.0008494678202827196, 9.119232064354896e-28, 0.0012998041842613, 0.08358343855235183, 4.441041228462501e-05, 0.0015449155673920155]\n"
     ]
    }
   ],
   "source": [
    "print(teste_e_uniform)"
   ]
  },
  {
   "cell_type": "code",
   "execution_count": 19,
   "id": "e19dfa6e",
   "metadata": {},
   "outputs": [
    {
     "name": "stdout",
     "output_type": "stream",
     "text": [
      "[0.009744270010344867, 0.08978851103510195, 0.009942118161763974, 9.119232064354896e-28, nan, 0.9575246079252856, 0.08562749851354803, 0.019121031812868935]\n"
     ]
    }
   ],
   "source": [
    "print(teste_e_normal)"
   ]
  },
  {
   "cell_type": "markdown",
   "id": "6bd81c41",
   "metadata": {},
   "source": []
  },
  {
   "cell_type": "code",
   "execution_count": null,
   "id": "49c5baac",
   "metadata": {},
   "outputs": [],
   "source": []
  },
  {
   "cell_type": "code",
   "execution_count": null,
   "id": "a0ac70b2",
   "metadata": {},
   "outputs": [],
   "source": []
  }
 ],
 "metadata": {
  "kernelspec": {
   "display_name": "Python 3 (ipykernel)",
   "language": "python",
   "name": "python3"
  },
  "language_info": {
   "codemirror_mode": {
    "name": "ipython",
    "version": 3
   },
   "file_extension": ".py",
   "mimetype": "text/x-python",
   "name": "python",
   "nbconvert_exporter": "python",
   "pygments_lexer": "ipython3",
   "version": "3.8.10"
  }
 },
 "nbformat": 4,
 "nbformat_minor": 5
}
